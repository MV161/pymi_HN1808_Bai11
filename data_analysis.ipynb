{
 "cells": [
  {
   "cell_type": "code",
   "execution_count": 1,
   "metadata": {},
   "outputs": [
    {
     "name": "stdout",
     "output_type": "stream",
     "text": [
      "Collecting pandas\n",
      "  Using cached https://files.pythonhosted.org/packages/e1/d8/feeb346d41f181e83fba45224ab14a8d8af019b48af742e047f3845d8cff/pandas-0.23.4-cp36-cp36m-manylinux1_x86_64.whl\n",
      "Collecting numpy\n",
      "  Using cached https://files.pythonhosted.org/packages/22/02/bae88c4aaea4256d890adbf3f7cf33e59a443f9985cf91cd08a35656676a/numpy-1.15.2-cp36-cp36m-manylinux1_x86_64.whl\n",
      "Collecting matplotlib\n",
      "  Using cached https://files.pythonhosted.org/packages/ed/89/dd823436a5f8d5ca9304b51b554863bfd366ca84708d5812f5ee87c923bc/matplotlib-3.0.0-cp36-cp36m-manylinux1_x86_64.whl\n",
      "Collecting scikit-learn\n",
      "  Using cached https://files.pythonhosted.org/packages/0c/b2/05be9b6da9ae4a4c54f537be22e95833f722742a02b1e355fdc09363877c/scikit_learn-0.20.0-cp36-cp36m-manylinux1_x86_64.whl\n",
      "Collecting seaborn\n",
      "  Using cached https://files.pythonhosted.org/packages/a8/76/220ba4420459d9c4c9c9587c6ce607bf56c25b3d3d2de62056efe482dadc/seaborn-0.9.0-py3-none-any.whl\n",
      "Collecting scipy\n",
      "  Using cached https://files.pythonhosted.org/packages/a8/0b/f163da98d3a01b3e0ef1cab8dd2123c34aee2bafbb1c5bffa354cc8a1730/scipy-1.1.0-cp36-cp36m-manylinux1_x86_64.whl\n",
      "Collecting python-dateutil>=2.5.0 (from pandas)\n",
      "  Using cached https://files.pythonhosted.org/packages/cf/f5/af2b09c957ace60dcfac112b669c45c8c97e32f94aa8b56da4c6d1682825/python_dateutil-2.7.3-py2.py3-none-any.whl\n",
      "Collecting pytz>=2011k (from pandas)\n",
      "  Using cached https://files.pythonhosted.org/packages/30/4e/27c34b62430286c6d59177a0842ed90dc789ce5d1ed740887653b898779a/pytz-2018.5-py2.py3-none-any.whl\n",
      "Collecting pyparsing!=2.0.4,!=2.1.2,!=2.1.6,>=2.0.1 (from matplotlib)\n",
      "  Using cached https://files.pythonhosted.org/packages/2b/4a/f06b45ab9690d4c37641ec776f7ad691974f4cf6943a73267475b05cbfca/pyparsing-2.2.2-py2.py3-none-any.whl\n",
      "Collecting kiwisolver>=1.0.1 (from matplotlib)\n",
      "  Using cached https://files.pythonhosted.org/packages/69/a7/88719d132b18300b4369fbffa741841cfd36d1e637e1990f27929945b538/kiwisolver-1.0.1-cp36-cp36m-manylinux1_x86_64.whl\n",
      "Collecting cycler>=0.10 (from matplotlib)\n",
      "  Using cached https://files.pythonhosted.org/packages/f7/d2/e07d3ebb2bd7af696440ce7e754c59dd546ffe1bbe732c8ab68b9c834e61/cycler-0.10.0-py2.py3-none-any.whl\n",
      "Collecting six>=1.5 (from python-dateutil>=2.5.0->pandas)\n",
      "  Using cached https://files.pythonhosted.org/packages/67/4b/141a581104b1f6397bfa78ac9d43d8ad29a7ca43ea90a2d863fe3056e86a/six-1.11.0-py2.py3-none-any.whl\n",
      "Requirement already satisfied: setuptools in ./lib/python3.6/site-packages (from kiwisolver>=1.0.1->matplotlib)\n",
      "Installing collected packages: numpy, six, python-dateutil, pytz, pandas, pyparsing, kiwisolver, cycler, matplotlib, scipy, scikit-learn, seaborn\n",
      "Successfully installed cycler-0.10.0 kiwisolver-1.0.1 matplotlib-3.0.0 numpy-1.15.2 pandas-0.23.4 pyparsing-2.2.2 python-dateutil-2.7.3 pytz-2018.5 scikit-learn-0.20.0 scipy-1.1.0 seaborn-0.9.0 six-1.11.0\n"
     ]
    }
   ],
   "source": [
    "!pip install pandas numpy matplotlib scikit-learn seaborn scipy"
   ]
  },
  {
   "cell_type": "markdown",
   "metadata": {},
   "source": [
    "# # # Bài tập pymi _ Bài 11 "
   ]
  },
  {
   "cell_type": "markdown",
   "metadata": {},
   "source": [
    "'''\n",
    " 1. Dùng numpy để tạo các ma trận sau:\n",
    "\n",
    "array([[ 0,  1,  2,  3,  4,  5],\n",
    "       [10, 11, 12, 13, 14, 15],\n",
    "       [20, 21, 22, 23, 24, 25],\n",
    "       [30, 31, 32, 33, 34, 35],\n",
    "       [40, 41, 42, 43, 44, 45],\n",
    "       [50, 51, 52, 53, 54, 55]])\n",
    "\n",
    "\n",
    "array(  [[0., 0., 0., 0., 0.],\n",
    "                 [2., 0., 0., 0., 0.],\n",
    "                 [0., 3., 0., 0., 0.],\n",
    "                 [0., 0., 4., 0., 0.],\n",
    "                 [0., 0., 0., 5., 0.],\n",
    "                 [0., 0., 0., 0., 6.]])\n",
    "'''"
   ]
  },
  {
   "cell_type": "code",
   "execution_count": 4,
   "metadata": {},
   "outputs": [],
   "source": [
    "import numpy as np\n",
    "import pandas as pd\n",
    "import matplotlib.pyplot as plt"
   ]
  },
  {
   "cell_type": "code",
   "execution_count": 5,
   "metadata": {},
   "outputs": [],
   "source": [
    "matrix = np.arange(6) + np.arange(0, 51, 10)[:, np.newaxis]"
   ]
  },
  {
   "cell_type": "code",
   "execution_count": 9,
   "metadata": {},
   "outputs": [
    {
     "data": {
      "text/plain": [
       "array([[ 0,  1,  2,  3,  4,  5],\n",
       "       [10, 11, 12, 13, 14, 15],\n",
       "       [20, 21, 22, 23, 24, 25],\n",
       "       [30, 31, 32, 33, 34, 35],\n",
       "       [40, 41, 42, 43, 44, 45],\n",
       "       [50, 51, 52, 53, 54, 55]])"
      ]
     },
     "execution_count": 9,
     "metadata": {},
     "output_type": "execute_result"
    }
   ],
   "source": [
    "matrix"
   ]
  },
  {
   "cell_type": "code",
   "execution_count": 10,
   "metadata": {},
   "outputs": [
    {
     "data": {
      "text/plain": [
       "array([[0., 0., 0., 0., 0.],\n",
       "       [2., 0., 0., 0., 0.],\n",
       "       [0., 3., 0., 0., 0.],\n",
       "       [0., 0., 4., 0., 0.],\n",
       "       [0., 0., 0., 5., 0.],\n",
       "       [0., 0., 0., 0., 6.]])"
      ]
     },
     "execution_count": 10,
     "metadata": {},
     "output_type": "execute_result"
    }
   ],
   "source": [
    "arr = np.diag([2., 3, 4, 5, 6], -1)\n",
    "arr[:, :-1]"
   ]
  },
  {
   "cell_type": "markdown",
   "metadata": {},
   "source": [
    "'''\n",
    "## 2. Vẽ đồ thị hàm sin,cos,tan trong khoảng -2𝜋 -> 2𝜋\n",
    "'''\n"
   ]
  },
  {
   "cell_type": "code",
   "execution_count": 26,
   "metadata": {},
   "outputs": [
    {
     "data": {
      "image/png": "[encoded data removed]",
      "text/plain": [
       "<Figure size 432x288 with 1 Axes>"
      ]
     },
     "metadata": {
      "needs_background": "light"
     },
     "output_type": "display_data"
    }
   ],
   "source": [
    "import numpy as np\n",
    "import matplotlib.pyplot as plt\n",
    "\n",
    "x = np.linspace(-2*np.pi, 2*np.pi, 500)\n",
    "C, S = np.cos(x), np.sin(x)\n",
    "plt.ylim(-1.0, 1.0)\n",
    "plt.yticks([-1, 0, +1], [r'$-1$', r'$0$', r'$+1$'])\n",
    "plt.xticks([-2*np.pi, -3*np.pi/2, -np.pi, -np.pi/2, 0, np.pi/2, np.pi, 3*np.pi/2, 2*np.pi],\n",
    "           [r'$-2\\pi$', r'$-3\\pi/2$', r'$-\\pi$', r'$-\\pi/2$', r'$0$', r'$+\\pi/2$', r'$+\\pi$', r'$+3\\pi/2$', r'$+2\\pi$'])\n",
    "ax = plt.gca()\n",
    "ax.spines['right'].set_color('none')\n",
    "ax.spines['top'].set_color('none')\n",
    "ax.xaxis.set_ticks_position('bottom')\n",
    "ax.spines['bottom'].set_position(('data',0))\n",
    "ax.yaxis.set_ticks_position('left')\n",
    "ax.spines['left'].set_position(('data',0))\n",
    "plt.plot(x, C, color=\"blue\", linewidth=2.5, linestyle=\"-\", label=\"y = cos(x)\") \n",
    "plt.plot(x, S, color=\"red\",  linewidth=2.5, linestyle=\"-\", label=\"y = sin(x)\") \n",
    "plt.legend(loc='upper left')\n",
    "plt.show()\n"
   ]
  },
  {
   "cell_type": "code",
   "execution_count": 22,
   "metadata": {},
   "outputs": [],
   "source": [
    "import matplotlib.pyplot as plt\n",
    "import numpy as np\n"
   ]
  },
  {
   "cell_type": "code",
   "execution_count": 25,
   "metadata": {},
   "outputs": [
    {
     "data": {
      "image/png": "[encoded data removed]",
      "text/plain": [
       "<Figure size 432x288 with 1 Axes>"
      ]
     },
     "metadata": {
      "needs_background": "light"
     },
     "output_type": "display_data"
    }
   ],
   "source": [
    "fig = plt.figure()\n",
    "ax = fig.add_subplot(111)\n",
    "ax.set(title='y = tan(x)')\n",
    "pi = np.pi\n",
    "x = np.linspace(-2*pi, 2*pi, 2000)\n",
    "T = np.tan(x)\n",
    "plt.plot(x, T) \n",
    "plt.xticks([-2*pi, -3*pi/2, -pi, -pi/2 ,0, pi/2, pi, 3*pi/2, 2*pi],\n",
    "           [r'$-\\frac{\\pi}{2}$', r'$-\\pi$', r'$-\\frac{3\\pi}{2}$', r'$-2\\pi$' ,'$0$',\n",
    "            r'$\\frac{\\pi}{2}$', r'$\\pi$', r'$\\frac{3\\pi}{2}$', r'$2\\pi$'])\n",
    "plt.show()"
   ]
  },
  {
   "cell_type": "markdown",
   "metadata": {},
   "source": [
    "'''\n",
    "## Bài 3. Vẽ đồ thị hàm x = y**2 và x = y trên cùng 1 trục toạ độ.\n",
    "'''\n"
   ]
  },
  {
   "cell_type": "code",
   "execution_count": 40,
   "metadata": {},
   "outputs": [
    {
     "data": {
      "image/png": "[encoded data removed]",
      "text/plain": [
       "<Figure size 432x288 with 1 Axes>"
      ]
     },
     "metadata": {
      "needs_background": "light"
     },
     "output_type": "display_data"
    }
   ],
   "source": [
    "import matplotlib.pyplot as plt\n",
    "import numpy as np\n",
    "y = np.linspace(-15, 15, 1000)\n",
    "plt.plot(x, x, color=\"blue\", linewidth=2.5, linestyle=\"-\", label=\"x = y\") \n",
    "plt.plot(x**2, x, color=\"red\",  linewidth=2.5, linestyle=\"-\", label=\"x = y**2\") \n",
    "plt.legend(loc='upper right')\n",
    "plt.show()"
   ]
  },
  {
   "cell_type": "markdown",
   "metadata": {},
   "source": [
    "'''\n",
    "## Bài 4. Tạo 1000 dữ liệu kiểu int ngẫu nhiêu gắn với 1000 ngày từ 09/02/2010\n",
    "'''"
   ]
  },
  {
   "cell_type": "code",
   "execution_count": 77,
   "metadata": {},
   "outputs": [
    {
     "data": {
      "image/png": "[encoded data removed]",
      "text/plain": [
       "<Figure size 432x288 with 1 Axes>"
      ]
     },
     "metadata": {
      "needs_background": "light"
     },
     "output_type": "display_data"
    }
   ],
   "source": [
    "import numpy as np\n",
    "import pandas as pd\n",
    "import matplotlib.pyplot as plt\n",
    "\n",
    "\n",
    "df = pd.Series(data = np.random.randint(100, size = 1000),\n",
    "               index = pd.date_range('2010/02/09', periods=1000))\n",
    "data = np.cumsum(df)\n",
    "data.plot()\n",
    "plt.show()"
   ]
  },
  {
   "cell_type": "markdown",
   "metadata": {},
   "source": [
    "'''\n",
    "Bài 5. Đọc file CSV dientich.csv (trong thư mục này) bằng pandas: pd.read_csv()\n",
    "Tìm ra 10 tỉnh có diện tích lớn nhất Việt Nam năm 2015.\n",
    "Vẽ đồ thị cột (bar) diện tích của 10 tỉnh đó.\n",
    "(dữ liệu lấy từ tổng cục thống kê Việt Nam: https://www.gso.gov.vn/default.aspx?tabid=714 chọn \"Diện tích, dân số và mật độ dân số phân theo địa phương\").\n",
    "Gợi ý:\n",
    "để đồ thị có thể ghi tiếng Việt, sử dụng font Unicode như \"Arial\":\n",
    "matplotlib.rc('font', family='Arial')\n",
    "'''"
   ]
  },
  {
   "cell_type": "code",
   "execution_count": 66,
   "metadata": {},
   "outputs": [
    {
     "data": {
      "image/png": "[encoded data removed]",
      "text/plain": [
       "<Figure size 432x288 with 1 Axes>"
      ]
     },
     "metadata": {
      "needs_background": "light"
     },
     "output_type": "display_data"
    }
   ],
   "source": [
    "import pandas as pd\n",
    "import matplotlib.pyplot as plt\n",
    "\n",
    "data = pd.read_csv('dientich.csv', delimiter=';', header=2)\n",
    "data_2015 = data.iloc[:, [0, 5]]\n",
    "data_2015.columns = ['Địa danh', 'Diện tích năm 2015 (km2)']\n",
    "top_10_provinces = data_2015.nlargest(10, columns='Diện tích năm 2015 (km2)')\n",
    "top_10_provinces.plot.bar(x='Địa danh')\n",
    "plt.show()"
   ]
  },
  {
   "cell_type": "markdown",
   "metadata": {},
   "source": [
    "'''\n",
    "### Bài 6. Dùng Pandas tìm ngày mà giá BTC cao nhất. Giải nén file dữ liệu: localbtcVND.csv.gz\n",
    "###  (tham khảo cách giải nén bầng câu lệnh: http://www.familug.org/2012/09/nen-giai-nen-bang-command-line-trong.html)\n",
    "\n",
    "'''\n"
   ]
  },
  {
   "cell_type": "code",
   "execution_count": 73,
   "metadata": {},
   "outputs": [
    {
     "data": {
      "text/plain": [
       "810   2017-05-25 14:59:26\n",
       "Name: Date, dtype: datetime64[ns]"
      ]
     },
     "execution_count": 73,
     "metadata": {},
     "output_type": "execute_result"
    }
   ],
   "source": [
    "import pandas as pd\n",
    "\n",
    "\n",
    "data = pd.read_csv('localbtcVND.csv', names=['Date', 'Price', 'BTC'])\n",
    "largest_price = data.nlargest(1, columns='Price')\n",
    "pd.to_datetime(largest_price['Date'], unit='s')"
   ]
  },
  {
   "cell_type": "code",
   "execution_count": 74,
   "metadata": {},
   "outputs": [
    {
     "name": "stdout",
     "output_type": "stream",
     "text": [
      "           Date        Price       BTC\n",
      "0    1392343181  16102220.61  0.701800\n",
      "1    1395747805  13454060.69  0.185817\n",
      "2    1396018379  11833327.73  0.198423\n",
      "3    1396256087  11549259.33  0.200000\n",
      "4    1400256247  11368863.04  0.215700\n",
      "5    1401678584  15987724.20  0.155600\n",
      "6    1403343220  10666465.07  0.003600\n",
      "7    1407435181  14951439.91  1.184100\n",
      "8    1407854353  10215147.03  0.021900\n",
      "9    1407869316  10299824.18  0.027300\n",
      "10   1408016532  12531328.32  0.039900\n",
      "11   1408456801  11661807.58  0.034300\n",
      "12   1408859372  12747130.22  0.166100\n",
      "13   1412141132   9518117.00  0.030000\n",
      "14   1412942087   9377344.34  0.133300\n",
      "15   1427992031   6081442.26  0.500000\n",
      "16   1428047292   6140067.20  0.500000\n",
      "17   1431402199   5294533.33  0.000600\n",
      "18   1432200280   5555555.56  0.180000\n",
      "19   1434105236   4791929.38  0.396500\n",
      "20   1434476109   5016302.98  0.398700\n",
      "21   1435927910   6039497.01  0.451300\n",
      "22   1438065613   7051573.52  0.500000\n",
      "23   1438181963   6020469.60  0.166100\n",
      "24   1438260641   5999232.10  4.167200\n",
      "25   1438304056   6218132.07  1.608200\n",
      "26   1439608710   6469501.43  0.216400\n",
      "27   1439883082   6196377.50  0.419600\n",
      "28   1440153556   5179908.88  0.780000\n",
      "29   1440388083   4974591.13  0.351600\n",
      "..          ...          ...       ...\n",
      "789  1495097155  41007568.81  0.118988\n",
      "790  1495099375  40494052.28  0.104026\n",
      "791  1495107033  44532757.85  0.022455\n",
      "792  1495188154  47508651.59  0.094720\n",
      "793  1495385565  44939484.07  0.071207\n",
      "794  1495433370  47328147.30  0.500000\n",
      "795  1495434113  47515615.32  0.500000\n",
      "796  1495443944  53448264.10  1.000000\n",
      "797  1495444230  53448264.10  1.000000\n",
      "798  1495444934  52772865.01  0.481308\n",
      "799  1495446775  47834799.56  0.054380\n",
      "800  1495447269  54932356.23  0.495782\n",
      "801  1495455329  46819028.22  1.281530\n",
      "802  1495463658  55384016.44  0.570591\n",
      "803  1495509252  48949859.09  0.204291\n",
      "804  1495513038  57840338.94  1.000000\n",
      "805  1495529173  49812148.43  0.100377\n",
      "806  1495535706  55743053.51  0.035879\n",
      "807  1495678455  61216144.54  0.074098\n",
      "808  1495699169  64195976.63  0.200333\n",
      "809  1495701369  71016685.84  0.191504\n",
      "810  1495724366  76454277.83  0.900000\n",
      "811  1495778365  58364969.43  0.300000\n",
      "812  1495791465  61210128.70  0.089854\n",
      "813  1495872534  51603287.76  3.102447\n",
      "814  1495899444  48690288.49  0.102445\n",
      "815  1495937671  58115284.86  0.584125\n",
      "816  1495938069  57905767.28  0.518083\n",
      "817  1495942243  52866055.90  0.100000\n",
      "818  1496120420  61603325.10  0.016233\n",
      "\n",
      "[819 rows x 3 columns]\n"
     ]
    }
   ],
   "source": [
    "print(data)\n"
   ]
  },
  {
   "cell_type": "code",
   "execution_count": 70,
   "metadata": {},
   "outputs": [
    {
     "data": {
      "text/plain": [
       "189   1970-04-24 18:23:53.460\n",
       "Name: 1, dtype: datetime64[ns]"
      ]
     },
     "execution_count": 70,
     "metadata": {},
     "output_type": "execute_result"
    }
   ],
   "source": []
  },
  {
   "cell_type": "code",
   "execution_count": null,
   "metadata": {},
   "outputs": [],
   "source": []
  }
 ],
 "metadata": {
  "kernelspec": {
   "display_name": "Python 3",
   "language": "python",
   "name": "python3"
  },
  "language_info": {
   "codemirror_mode": {
    "name": "ipython",
    "version": 3
   },
   "file_extension": ".py",
   "mimetype": "text/x-python",
   "name": "python",
   "nbconvert_exporter": "python",
   "pygments_lexer": "ipython3",
   "version": "3.6.5"
  }
 },
 "nbformat": 4,
 "nbformat_minor": 2
}
